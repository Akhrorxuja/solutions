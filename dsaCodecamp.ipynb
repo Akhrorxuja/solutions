{
  "nbformat": 4,
  "nbformat_minor": 0,
  "metadata": {
    "colab": {
      "provenance": [],
      "authorship_tag": "ABX9TyN3Wo+9tf5POX9Xwk+nTFsB",
      "include_colab_link": true
    },
    "kernelspec": {
      "name": "python3",
      "display_name": "Python 3"
    },
    "language_info": {
      "name": "python"
    }
  },
  "cells": [
    {
      "cell_type": "markdown",
      "metadata": {
        "id": "view-in-github",
        "colab_type": "text"
      },
      "source": [
        "<a href=\"https://colab.research.google.com/github/Akhrorxuja/solutions/blob/main/dsaCodecamp.ipynb\" target=\"_parent\"><img src=\"https://colab.research.google.com/assets/colab-badge.svg\" alt=\"Open In Colab\"/></a>"
      ]
    },
    {
      "cell_type": "code",
      "execution_count": null,
      "metadata": {
        "colab": {
          "base_uri": "https://localhost:8080/"
        },
        "id": "VlklVIm0mcRj",
        "outputId": "5db2656d-c423-4f19-ed2b-d644b13e5574"
      },
      "outputs": [
        {
          "output_type": "stream",
          "name": "stdout",
          "text": [
            "Hello World\n"
          ]
        }
      ],
      "source": [
        "print(\"Hello World\")"
      ]
    },
    {
      "cell_type": "code",
      "source": [
        "new_list = [1, 2, 3]\n",
        "result = new_list[0]\n",
        "new_list[2]\n",
        "  if 1 in new_list: print(True)\n"
      ],
      "metadata": {
        "id": "xnS73iCCnJAX"
      },
      "execution_count": null,
      "outputs": []
    },
    {
      "cell_type": "code",
      "source": [
        "new_list[2]"
      ],
      "metadata": {
        "colab": {
          "base_uri": "https://localhost:8080/"
        },
        "id": "8HQx5IPMOrh_",
        "outputId": "2df57c94-47db-44f7-f6e5-9ce422ab123f"
      },
      "execution_count": null,
      "outputs": [
        {
          "output_type": "execute_result",
          "data": {
            "text/plain": [
              "3"
            ]
          },
          "metadata": {},
          "execution_count": 7
        }
      ]
    },
    {
      "cell_type": "code",
      "source": [
        "if 1 in new_list: print(True)"
      ],
      "metadata": {
        "colab": {
          "base_uri": "https://localhost:8080/"
        },
        "id": "PQrZbIljOuyo",
        "outputId": "06d6e26b-3aa9-43c5-c9e7-9610152685e9"
      },
      "execution_count": null,
      "outputs": [
        {
          "output_type": "stream",
          "name": "stdout",
          "text": [
            "True\n"
          ]
        }
      ]
    },
    {
      "cell_type": "code",
      "source": [
        "for n in new_list:\n",
        "  if n == 1:\n",
        "    print(True)"
      ],
      "metadata": {
        "colab": {
          "base_uri": "https://localhost:8080/"
        },
        "id": "dD49_1-mO_Y5",
        "outputId": "b71f7843-fcd2-4a72-a3fa-b7ef7c1cdedd"
      },
      "execution_count": null,
      "outputs": [
        {
          "output_type": "stream",
          "name": "stdout",
          "text": [
            "True\n"
          ]
        }
      ]
    },
    {
      "cell_type": "code",
      "source": [
        "numbers = []\n",
        "len(numbers)"
      ],
      "metadata": {
        "colab": {
          "base_uri": "https://localhost:8080/"
        },
        "id": "vuJI5kwOPIcf",
        "outputId": "b843ba4a-6972-4ac2-afdb-00d007d6f40f"
      },
      "execution_count": null,
      "outputs": [
        {
          "output_type": "execute_result",
          "data": {
            "text/plain": [
              "0"
            ]
          },
          "metadata": {},
          "execution_count": 11
        }
      ]
    },
    {
      "cell_type": "code",
      "source": [
        "numbers = []\n",
        "numbers.extend([4, 5, 6])\n",
        "numbers"
      ],
      "metadata": {
        "colab": {
          "base_uri": "https://localhost:8080/"
        },
        "id": "WQlcTiX_RobA",
        "outputId": "c50c56e5-5994-483b-addc-9139777c6467"
      },
      "execution_count": null,
      "outputs": [
        {
          "output_type": "execute_result",
          "data": {
            "text/plain": [
              "[4, 5, 6]"
            ]
          },
          "metadata": {},
          "execution_count": 12
        }
      ]
    },
    {
      "cell_type": "code",
      "source": [
        "print(\"***** Linked_List\")"
      ],
      "metadata": {
        "colab": {
          "base_uri": "https://localhost:8080/"
        },
        "id": "LjA3YXz0S-ml",
        "outputId": "347780a0-2c24-41f9-a1fc-b82d92f7f485"
      },
      "execution_count": null,
      "outputs": [
        {
          "output_type": "stream",
          "name": "stdout",
          "text": [
            "***** Linked_List\n"
          ]
        }
      ]
    },
    {
      "cell_type": "code",
      "source": [
        "class Node:\n",
        "  \"\"\"\n",
        "  An Object for storing a single node of a linked list:\n",
        "  Models two attribute - data and the link to the next node in the list\n",
        "  \"\"\"\n",
        "  data = None\n",
        "  next_node = None\n",
        "\n",
        "  def __init__ (self, data):\n",
        "    self.data = data\n",
        "\n",
        "\n",
        "  def __repr__ (self):\n",
        "    return \"<Node data: %s>\" % self.data\n",
        "\n",
        "\n",
        "class LinkedList:\n",
        "  #Singly linked list\n",
        "\n",
        "  def __init__(self):\n",
        "    self.head = None\n",
        "\n",
        "\n",
        "  def is_empty(self):\n",
        "   return self.head == None\n",
        "\n",
        "  def size(self):\n",
        "\n",
        "  ### Retruns the number of nodes on the list\n",
        "  ###Takes O(n) time\n",
        "\n",
        "  current = self.head\n",
        "  count = 0\n",
        "\n",
        "    while current:\n",
        "    count += 1\n",
        "    current = current.next_node\n",
        "\n",
        "    return count\n",
        "\n",
        "def add(self, data):\n",
        "    new_node = Node(data)\n",
        "    new_node.next_node = self.head\n",
        "    self.head = new_node\n",
        "\n",
        "def search(self, key):\n",
        "  \"\"\"\n",
        "  Search for the first node containing data that matches the key\n",
        "  Return the node or 'None' if not found\n",
        "  Take O(n)\n",
        "  \"\"\"\n",
        "  current = self.head\n",
        "\n",
        "  while current:\n",
        "    if current.data == key:\n",
        "      return current\n",
        "    else:\n",
        "      current = current.new_node\n",
        "  return None\n",
        "\n",
        "def search(self, key):\n",
        "  #Search for the first node containing data that matches the key\n",
        "  # Returns the node or None if not found\n",
        "  #Takes O(n) time\n",
        "  current = self.head\n",
        "\n",
        "  while current:\n",
        "    if current.data == key:\n",
        "      return current\n",
        "    else:\n",
        "      current = current.next_node\n",
        "  return None\n",
        "\n",
        "def insert(self, data, index):\n",
        "  #Inserts a new Node containing data at index position\n",
        "  #Insertion takes O(1) time but finding node at the insertion point\n",
        "  #point takes O(n) time\n",
        "  # Takes overall O(n) time\n",
        "  if index == 0:\n",
        "    self.add(data)\n",
        "\n",
        "  if index > 0:\n",
        "    new = Node(data)\n",
        "\n",
        "    position = index\n",
        "    current = self.head\n",
        "\n",
        "    while position > 1:\n",
        "      current = node.new_node\n",
        "      position -= 1\n",
        "\n",
        "    prev_node = current\n",
        "    next_node = current.next_node\n",
        "\n",
        "    prev_node.next_node = new\n",
        "    new.next_node = next_node\n",
        "\n",
        "def remove(self, key):\n",
        "  #Removes Node containing data that matches the key\n",
        "  #return the node or None if key doesn't exist\n",
        "  # Takes O(n) time\n",
        "  current = self.head\n",
        "  previous = None\n",
        "  found = False\n",
        "\n",
        "  while current and not found:\n",
        "    if current.data == key and current is self.head:\n",
        "      found = True\n",
        "      self.head = current.next_node\n",
        "    elif current.data == key:\n",
        "      found = True\n",
        "      previous.next_node = current.next_node\n",
        "    else:\n",
        "      previous = current\n",
        "      current = current.next_node\n",
        "\n",
        "  return current\n",
        "\n",
        "def node_at_index(self, index):\n",
        "  if index == 0:\n",
        "    return self.head\n",
        "  else:\n",
        "    current = self.head\n",
        "    position = 0\n",
        "\n",
        "    while position < index:\n",
        "      current = current.next_node\n",
        "      position += 1\n",
        "\n",
        "    return current\n",
        "\n",
        "def __repr__(self):\n",
        "  \"\"\"Return a string representation of the list Takes O(n) time\n",
        "  \"\"\"\n",
        "  nodes = []\n",
        "  current = self.head\n",
        "\n",
        "  while current:\n",
        "    if current is self.head:\n",
        "      nodes.append(\"[Head: %s]\" % current.data)\n",
        "    elif current.next_node is None:\n",
        "      nodes.append(\"[Tail: %s]\" % current.data)\n",
        "    else:\n",
        "      nodes.append(\"[%s]\" % current.data)\n",
        "\n",
        "    current = current.new_node\n",
        "  return '->'.join(nodes)\n"
      ],
      "metadata": {
        "id": "zpOXjuZ3Twmp",
        "colab": {
          "base_uri": "https://localhost:8080/",
          "height": 105
        },
        "outputId": "1b87446f-67c9-4254-fa28-e4e626d0440b"
      },
      "execution_count": null,
      "outputs": [
        {
          "output_type": "error",
          "ename": "IndentationError",
          "evalue": "expected an indented block after function definition on line 27 (ipython-input-1-3057339939.py, line 28)",
          "traceback": [
            "\u001b[0;36m  File \u001b[0;32m\"/tmp/ipython-input-1-3057339939.py\"\u001b[0;36m, line \u001b[0;32m28\u001b[0m\n\u001b[0;31m    \"\"\"\u001b[0m\n\u001b[0m    ^\u001b[0m\n\u001b[0;31mIndentationError\u001b[0m\u001b[0;31m:\u001b[0m expected an indented block after function definition on line 27\n"
          ]
        }
      ]
    },
    {
      "cell_type": "code",
      "source": [
        "******* Merge_sort\n"
      ],
      "metadata": {
        "id": "cAzTN4Wusqis"
      },
      "execution_count": null,
      "outputs": []
    },
    {
      "cell_type": "code",
      "source": [
        "def merge_sort(list):\n",
        "  \"\"\"\n",
        "  Sorts a list in ascending order\n",
        "  Returns a new sorted list\n",
        "\n",
        "  Divide: Find the midpoint of the list and divide into sublists\n",
        "  Conquer: Recursively sort the sublists created in previuos step\n",
        "  Combine: Merge the sorted sublists created in previous step\n",
        "\n",
        "  Takes O(n log n) time\n",
        "  \"\"\"\n",
        "  if len(list) <= 1:\n",
        "    return list\n",
        "\n",
        "  left_half, right_half = split(list)\n",
        "  left = merge_sort(left_half)\n",
        "  right = merge_sort(right_half)\n",
        "\n",
        "  return merge(left, right)\n",
        "\n",
        "def split(list):\n",
        "  \"\"\"\n",
        "  Divide the unsorted list at midpoint into sublists\n",
        "  Returns two sublists - left and right\n",
        "  Take O(log n) time\n",
        "  \"\"\"\n",
        "  mid = len(list)//2\n",
        "  left = list[:mid]\n",
        "  right = list[mid:]\n",
        "\n",
        "  return left, right\n",
        "\n",
        "def merge(left, right):\n",
        "  \"\"\"\n",
        "  Merges two lists(arrays), sorting them in the process\n",
        "  Retruns a new merged list\n",
        "  Takes O(n) time\n",
        "  \"\"\"\n",
        "  l = []\n",
        "  i = 0\n",
        "  j = 0\n",
        "\n",
        "  while i < len(left) and j < len(right):\n",
        "    if left[i] < right[j]:\n",
        "      l.append(left[i])\n",
        "      i += 1\n",
        "    else:\n",
        "      l.append(right[j])\n",
        "      j+=1\n",
        "\n",
        "  while i < len(left):\n",
        "    l.append(left[i])\n",
        "    i+=1\n",
        "\n",
        "\n",
        "\n",
        "  while j < len(right):\n",
        "    l.append(right[j])\n",
        "    j+=1\n",
        "\n",
        "  return l\n",
        "\n",
        "def verify_sorted(list):\n",
        "  n = len(list)\n",
        "\n",
        "  if n == 0 or n == 1:\n",
        "    return True\n",
        "\n",
        "  return list[0] < list[1] and verify_sorted(list[1:])\n",
        "\n",
        "alist = [54, 26, 93, 45, 17, 77, 31, 44, 55]\n",
        "l = merge_sort(alist)\n",
        "print(verify_sorted(alist))\n",
        "print(verify_sorted(l))\n"
      ],
      "metadata": {
        "id": "iOj2404y_aUi",
        "colab": {
          "base_uri": "https://localhost:8080/"
        },
        "outputId": "12f71581-2373-4963-a1da-aad7bd5ab3d4"
      },
      "execution_count": null,
      "outputs": [
        {
          "output_type": "stream",
          "name": "stdout",
          "text": [
            "False\n",
            "True\n"
          ]
        }
      ]
    },
    {
      "cell_type": "code",
      "source": [
        "### Linked_list_merge_sort\n",
        "\n",
        "from linked_list import LinkedList\n",
        "\n",
        "def merge_sort(linked_list):\n",
        "  \"\"\"\n",
        "  Sorts a linked list in ascending order\n",
        "  - Recursively divide the linked list into sublists containing a single node\n",
        "  - Repeatedly merge the sublists to produce sorted sublists until one remains\n",
        "\n",
        "  Returns a sorted linked list\n",
        "\n",
        "  Runs in O(kn log n)\n",
        "  \"\"\"\n",
        "  if linked_list.size() == 1:\n",
        "    return linked_list\n",
        "  elif linked_list.head is None:\n",
        "    return linked_list\n",
        "\n",
        "  left_half, right_half = split(linked_list)\n",
        "  left = merge_sort(left_half)\n",
        "  right = merge_sort(right_half)\n",
        "\n",
        "  return merge(left, right)\n",
        "\n",
        "def split(linked_list):\n",
        "  \"\"\"\n",
        "  Divide the unsorted list at midpoint into sublists\n",
        "  Takes O(k log n) time\n",
        "  \"\"\"\n",
        "  if linked_list == None or linked_list.head == None:\n",
        "    left_half = linked_list\n",
        "    right_half = None\n",
        "\n",
        "    return left_half, right_half\n",
        "  else:\n",
        "    size = linked_list.size()\n",
        "    mid = size//2\n",
        "\n",
        "    mid_node = linked_list.node_at_index(mid-1)\n",
        "\n",
        "    left_half = linked_list\n",
        "    right_half = LinkedList()\n",
        "    right_half.head = mid_node.next_node\n",
        "    mid_node.next_node = None\n",
        "\n",
        "    return left_half, right_half\n",
        "\n",
        "def merge(left, right):\n",
        "  \"\"\"\n",
        "  Merges two linked lists, sorting by data in nodes\n",
        "  Returns a new, merged list\n",
        "  Takes O(n) time\n",
        "  \"\"\"\n",
        "  # Create a new linked list that contains nodes from\n",
        "  # merging left and right\n",
        "  merged = LinkedList()\n",
        "\n",
        "  # Add a fake head that discarded later\n",
        "  merged.add(0)\n",
        "\n",
        "  #Set current to the head of the linked list\n",
        "  current = merged.head\n",
        "\n",
        "  #Obtain head nodes for left and right linked lists\n",
        "  left_head = left.head\n",
        "  right_head = right_head\n",
        "\n",
        "  # Iterate over left and right until we reach the tail node\n",
        "  # of either\n",
        "  while left_head or right_head:\n",
        "    # If the head node of left is None, we're past the tail\n",
        "    # Add the node from right to merged linked list\n",
        "    if left_head is None:\n",
        "      current.next_node = right_head\n",
        "      #  Call next on right to set loop condition to False\n",
        "      right_head = right_head.new_node\n",
        "      # If the head node of right is None, we're past the tail\n",
        "      # Add the tail node from left to merged linked list\n",
        "    elif right_head is None:\n",
        "        current.next_node = left_head\n",
        "        # call next on left to set loop condition to False\n",
        "        left_head = left_head.next_node\n",
        "    else:\n",
        "        # Not at either tail node\n",
        "        # Obtain node data to perform comparison operations\n",
        "        left_data = left_head.data\n",
        "        right_data = right_head.data\n",
        "        # If data on left is less than right, set current to left node\n",
        "        if left_data < right_data:\n",
        "          current.next_node= left_head\n",
        "          # Move left head to next node\n",
        "          left_head = left_head.next_node\n",
        "        # If data on left is greater than right, set current to right node\n",
        "        else:\n",
        "          current.next_node = right_head\n",
        "          # Move right head to next node\n",
        "          right_head = right_head.next_node\n",
        "  # Move current to next node\n",
        "  current = current.next_node\n",
        "\n",
        "  # Discard fake head and set first merged node as head\n",
        "  head = merged.head.next_node\n",
        "  merged.head = head\n",
        "\n",
        "  return merged\n",
        "\n",
        "l = LinkedList()\n",
        "l.add(10)\n",
        "l.add(2)\n",
        "l.add(44)\n",
        "l.add(15)\n",
        "l.add(200)\n",
        "\n",
        "print(l)\n",
        "sorted_linked_list = merge_sorted(l)\n",
        "print(sorted_linked_list)\n",
        "\n",
        "\n",
        "\n",
        "\n",
        "\n"
      ],
      "metadata": {
        "colab": {
          "base_uri": "https://localhost:8080/",
          "height": 378
        },
        "id": "7voez8lLETGQ",
        "outputId": "f155fadf-2b10-4ee8-9874-83dad8059d6a"
      },
      "execution_count": null,
      "outputs": [
        {
          "output_type": "error",
          "ename": "ModuleNotFoundError",
          "evalue": "No module named 'linked_list'",
          "traceback": [
            "\u001b[0;31m---------------------------------------------------------------------------\u001b[0m",
            "\u001b[0;31mModuleNotFoundError\u001b[0m                       Traceback (most recent call last)",
            "\u001b[0;32m/tmp/ipython-input-2-1240721595.py\u001b[0m in \u001b[0;36m<cell line: 0>\u001b[0;34m()\u001b[0m\n\u001b[1;32m      1\u001b[0m \u001b[0;31m### Linked_list_merge_sort\u001b[0m\u001b[0;34m\u001b[0m\u001b[0;34m\u001b[0m\u001b[0m\n\u001b[1;32m      2\u001b[0m \u001b[0;34m\u001b[0m\u001b[0m\n\u001b[0;32m----> 3\u001b[0;31m \u001b[0;32mfrom\u001b[0m \u001b[0mlinked_list\u001b[0m \u001b[0;32mimport\u001b[0m \u001b[0mLinkedList\u001b[0m\u001b[0;34m\u001b[0m\u001b[0;34m\u001b[0m\u001b[0m\n\u001b[0m\u001b[1;32m      4\u001b[0m \u001b[0;34m\u001b[0m\u001b[0m\n\u001b[1;32m      5\u001b[0m \u001b[0;32mdef\u001b[0m \u001b[0mmerge_sort\u001b[0m\u001b[0;34m(\u001b[0m\u001b[0mlinked_list\u001b[0m\u001b[0;34m)\u001b[0m\u001b[0;34m:\u001b[0m\u001b[0;34m\u001b[0m\u001b[0;34m\u001b[0m\u001b[0m\n",
            "\u001b[0;31mModuleNotFoundError\u001b[0m: No module named 'linked_list'",
            "",
            "\u001b[0;31m---------------------------------------------------------------------------\u001b[0;32m\nNOTE: If your import is failing due to a missing package, you can\nmanually install dependencies using either !pip or !apt.\n\nTo view examples of installing some common dependencies, click the\n\"Open Examples\" button below.\n\u001b[0;31m---------------------------------------------------------------------------\u001b[0m\n"
          ],
          "errorDetails": {
            "actions": [
              {
                "action": "open_url",
                "actionText": "Open Examples",
                "url": "/notebooks/snippets/importing_libraries.ipynb"
              }
            ]
          }
        }
      ]
    },
    {
      "cell_type": "code",
      "source": [
        "# Algorithm: Sorting and Searching\n",
        "\n",
        "import random\n",
        "import sys\n",
        "from load import load_numbers\n",
        "\n",
        "numbers = load_numbers(sys.argv[1])\n",
        "\n",
        "def is_sorted(values):\n",
        "  for index in range(len(values) - 1):\n",
        "    if values[index] > values[index + 1]:\n",
        "      return False\n",
        "  return True\n",
        "\n",
        "def bogo_sort(values):\n",
        "  attempts: 0\n",
        "  while not is_sorted(values):\n",
        "    print(attempts)\n",
        "    random.shuffle(values)\n",
        "    attempts += 1\n",
        "  return values\n",
        "\n",
        "print(bogo_sort(numbers))\n"
      ],
      "metadata": {
        "id": "ygxSX9oQQNDp"
      },
      "execution_count": null,
      "outputs": []
    },
    {
      "cell_type": "code",
      "source": [
        "import sys\n",
        "from load import load_numbers\n",
        "\n",
        "numbers = load_numbers(sys.srgv[1])\n",
        "\n",
        "def selection_sort(values):\n",
        "  sorted_list = []\n",
        "  print(\"%-25s %-25s\" %(values, sorted_list))\n",
        "  for i in range(0, len(values)):\n",
        "    index_to_move = index_of_min(values)\n",
        "    sorted_list.append(values.pop(index_to_move))\n",
        "    print(\"%-25s %-25s\" %(values, sorted_list))\n",
        "  return sorted_list\n",
        "\n",
        "def index_of_min(values):\n",
        "  min_index = 0\n",
        "\n",
        "\n",
        "\n"
      ],
      "metadata": {
        "id": "incpGVFaGMUv"
      },
      "execution_count": null,
      "outputs": []
    },
    {
      "cell_type": "code",
      "source": [
        "# Recursion\n",
        "\n",
        "def sum(numbers):\n",
        "  total = 0\n",
        "  for number in numbers:\n",
        "    total += number\n",
        "  return total\n",
        "\n",
        "print(sum([1, 2, 7, 9]))"
      ],
      "metadata": {
        "colab": {
          "base_uri": "https://localhost:8080/"
        },
        "id": "tE3uRuM-I_pl",
        "outputId": "0931a2d8-322a-41e4-9d22-6afc3f55e1b2"
      },
      "execution_count": null,
      "outputs": [
        {
          "output_type": "stream",
          "name": "stdout",
          "text": [
            "19\n"
          ]
        }
      ]
    },
    {
      "cell_type": "code",
      "source": [
        "# Quick sort\n",
        "import sys\n",
        "from load import load_numbers\n",
        "\n",
        "numbers = load_numbers(sys.argv[1])\n",
        "\n",
        "def quicksort(values):\n",
        "  if len(values) <= 1:\n",
        "    return values\n",
        "  less_than_pivot = []\n",
        "  greater_than_pivot = []\n",
        "  pivot = values[0]\n",
        "  for value in values[1:]:\n",
        "    if value <= pivot:\n",
        "      less_than_pivot.append(value)\n",
        "    else:\n",
        "      greater_than_pivot.append(value)\n",
        " return quicksort(less_than_pivot) + [pivot] + quicksort(greater_than_pivot)\n",
        "\n",
        "sorted_numbers = quicksort(numbers)\n",
        "print(sorted_numbers)\n"
      ],
      "metadata": {
        "id": "7nyRLHmRKiWp"
      },
      "execution_count": null,
      "outputs": []
    },
    {
      "cell_type": "code",
      "source": [
        "# Merge Sort\n",
        "\n",
        "import sys\n",
        "from load import load_numbers\n",
        "load_numbers = [4, 6, 3, 2, 9, 7, 3, 5]\n",
        "\n",
        "numbers = load_numbers(sys.argv[1])\n",
        "\n",
        "def merge_sort(values):\n",
        "  if len(values) <= 1:\n",
        "    return values\n",
        "  middle_index = len(values) // 2\n",
        "  left_values = merge_sort(values[:middle_index])\n",
        "  right_values = merge_sort(values[middle_index:])\n",
        "  sorted_values = []\n",
        "  left_index = 0\n",
        "  right_index = 0\n",
        "  while left_index < len(left_values) and right_index < len(right_values):\n",
        "    if left_values[left_index] < right_values[right_index]:\n",
        "      sorted_values.append(left_values[left_index])\n",
        "      left_index += 1\n",
        "    else:\n",
        "      sorted_values.append(right_values[right_index])\n",
        "      right_index += 1\n",
        "  sorted_values += left_values[left_index:]\n",
        "  sorted_values += right_values[right_index:]\n",
        "  return sorted_values\n",
        "\n",
        "sorted_numbers = merge_sort(numbers)\n",
        "print(sorted_numbers)"
      ],
      "metadata": {
        "id": "ne89GxZjHjr8"
      },
      "execution_count": null,
      "outputs": []
    },
    {
      "cell_type": "code",
      "source": [
        "# Binary Search on names\n",
        "\n",
        "def binary_search(collection, target):\n",
        "  first = 0\n",
        "  last = len(collection) - 1\n",
        "  while first <= last:\n",
        "    midpoint = (first + last) // 2\n",
        "    if collection[midpoint] == target:\n",
        "      return midpoint\n",
        "    elif collection[midpoint] < target:\n",
        "      first = midpoint + 1\n",
        "    else:\n",
        "      last = midpoint - 1\n",
        "  return None\n",
        "\n",
        "for n in search_names:\n",
        "  index = binary_search(names, n)\n",
        "  print(index)\n",
        "\n",
        "## Quick Notes\n",
        "\"\"\"\n",
        "Big O Notation\n",
        "\n",
        "Binary Search O(log n) // Selection Sort O(n*n)\n",
        "Quick Sort O(lon n)  // Linear O(n) // Merge sort O(n log n)\n",
        "\n",
        "\"\"\"\n",
        "\n"
      ],
      "metadata": {
        "id": "_2QklTDLOV4Q"
      },
      "execution_count": null,
      "outputs": []
    }
  ]
}